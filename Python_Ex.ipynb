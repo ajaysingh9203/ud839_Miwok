{
  "nbformat": 4,
  "nbformat_minor": 0,
  "metadata": {
    "colab": {
      "name": "Python_Ex.ipynb",
      "provenance": [],
      "authorship_tag": "ABX9TyMzZkBFtvx6nmKZ1Pp6x4q7",
      "include_colab_link": true
    },
    "kernelspec": {
      "name": "python3",
      "display_name": "Python 3"
    },
    "language_info": {
      "name": "python"
    }
  },
  "cells": [
    {
      "cell_type": "markdown",
      "metadata": {
        "id": "view-in-github",
        "colab_type": "text"
      },
      "source": [
        "<a href=\"https://colab.research.google.com/github/ajaysingh9203/ud839_Miwok/blob/Starter-code/Python_Ex.ipynb\" target=\"_parent\"><img src=\"https://colab.research.google.com/assets/colab-badge.svg\" alt=\"Open In Colab\"/></a>"
      ]
    },
    {
      "cell_type": "code",
      "execution_count": null,
      "metadata": {
        "colab": {
          "base_uri": "https://localhost:8080/"
        },
        "id": "l6f_FWNR2UDp",
        "outputId": "c53629bb-ca4f-4c51-aaae-44be13b3673f"
      },
      "outputs": [
        {
          "output_type": "stream",
          "name": "stdout",
          "text": [
            "[]\n",
            "['the dark knigt']\n",
            "['the dark knigt', 'the notebook']\n",
            "the dark knigt\n"
          ]
        }
      ],
      "source": [
        "movies=[]\n",
        "print(movies)\n",
        "movies.append('the dark knigt')\n",
        "print(movies)\n",
        "movies.append('the notebook')\n",
        "print(movies)\n",
        "print(movies[0])\n"
      ]
    },
    {
      "cell_type": "markdown",
      "source": [
        "\n",
        "\n",
        "*   Create a variable called num_users and set it equal to the length of the usernames list. \n",
        "*   Print the num_users variable\n",
        "*   Use floor division (//) to get the index of the username halfway through the list rounded down.\n",
        "*   Print that username\n",
        "\n",
        "\n",
        "\n",
        "\n",
        "\n",
        "\n",
        "\n"
      ],
      "metadata": {
        "id": "sn8voukc4IT2"
      }
    },
    {
      "cell_type": "code",
      "source": [
        "usernames = [\n",
        "    \"johndoe123\",\n",
        "    \"billyrae456\",\n",
        "    \"sallysue124\",\n",
        "    \"pratham\",\n",
        "    \"preston\",\n",
        "    \"wagslane\",\n",
        "    \"jimmyjohn\",\n",
        "    \"bopeep\",\n",
        "    \"strightkilla\",\n",
        "    \"reddyman\",\n",
        "    \"singsonger\",\n",
        "    \"killingeet\",\n",
        "    \"movieluvver\",\n",
        "    \"filmenthus\",\n",
        "    \"yoyoyoyo123\",\n",
        "]\n",
        "num_users=len(usernames)\n",
        "print(num_users)\n",
        "middle_user=num_users//2\n",
        "print(usernames[middle_user])"
      ],
      "metadata": {
        "colab": {
          "base_uri": "https://localhost:8080/"
        },
        "id": "18ijaliD3tjQ",
        "outputId": "ea4d3dad-2919-4635-995e-9779deb8768a"
      },
      "execution_count": null,
      "outputs": [
        {
          "output_type": "stream",
          "name": "stdout",
          "text": [
            "15\n",
            "bopeep\n"
          ]
        }
      ]
    },
    {
      "cell_type": "markdown",
      "source": [
        "**Append**\n",
        "\n",
        "We have a numeric list of our customer's star ratings of various movies. We need to create a labels list that has a more presentable version. The integer 5 becomes the string \"5 stars\", 4 becomes \"4 stars\", etc.\n",
        "\n",
        "Create an empty labels list\n",
        "Loop over each star rating\n",
        "Append the corresponding string for each star label. Use the .format method.\n",
        "Print the labels list\n"
      ],
      "metadata": {
        "id": "oo2uDnwVKXU8"
      }
    },
    {
      "cell_type": "code",
      "source": [
        "star_ratings = [5, 3, 2, 2, 5, 4, 1, 2, 5]\n",
        "labels=[]\n",
        "for i in star_ratings:\n",
        "    labels.append(\"{} stars\".format(i))\n",
        "    \n",
        "print(labels)"
      ],
      "metadata": {
        "colab": {
          "base_uri": "https://localhost:8080/"
        },
        "id": "TzYyHLV_KcLs",
        "outputId": "ae113297-51ed-4138-cbed-f95a6468b02d"
      },
      "execution_count": 10,
      "outputs": [
        {
          "output_type": "stream",
          "name": "stdout",
          "text": [
            "['5 stars', '3 stars', '2 stars', '2 stars', '5 stars', '4 stars', '1 stars', '2 stars', '5 stars']\n"
          ]
        }
      ]
    },
    {
      "cell_type": "markdown",
      "source": [
        "**Slicing** **lists**.\n",
        "\n",
        "Assignment\n",
        "\n",
        "First, print a slice of the movies list that starts with the third item in the list.\n",
        "\n",
        "Next, print a slice of the movies list that ends with the third item from the end of the list.\n",
        "\n",
        "Last, print a slice of the movies list that skips every odd numbered index.\n",
        "\n"
      ],
      "metadata": {
        "id": "hhYixooVLRjk"
      }
    },
    {
      "cell_type": "code",
      "source": [
        "movies = [\n",
        "    \"oh brother where art thou\",\n",
        "    \"oceans eleven\",\n",
        "    \"fight club\",\n",
        "    \"the island\",\n",
        "    \"shutter island\",\n",
        "    \"the magnificent seven\",\n",
        "]\n",
        "\n",
        "#print(movies[2:])\n",
        "#print(movies[0:len(movies)-2])\n",
        "#print(movies[0:len(movies):2])\n",
        "\n",
        "print(movies[2:])\n",
        "\n",
        "print(movies[:-2])\n",
        "\n",
        "print(movies[::2])\n"
      ],
      "metadata": {
        "colab": {
          "base_uri": "https://localhost:8080/"
        },
        "id": "oyUS6_46L7Sb",
        "outputId": "96fc031d-fc66-4eef-98ba-d553d9c9d88e"
      },
      "execution_count": 16,
      "outputs": [
        {
          "output_type": "stream",
          "name": "stdout",
          "text": [
            "['fight club', 'the island', 'shutter island', 'the magnificent seven']\n",
            "['oh brother where art thou', 'oceans eleven', 'fight club', 'the island']\n",
            "['oh brother where art thou', 'fight club', 'shutter island']\n"
          ]
        }
      ]
    },
    {
      "cell_type": "markdown",
      "source": [
        "**List deletion**\n",
        "Python has a built-in keyword del that deletes items from objects. In the case of a list, you can delete specific indexes or entire slices.\n",
        "Assignment\n",
        "\n",
        "Delete the first movie from the list\n",
        "\n",
        "Print the list of movies\n",
        "\n",
        "Delete the last two movies from the list as a slice\n",
        "\n",
        "Print the list of movies"
      ],
      "metadata": {
        "id": "NbckuQ8wOWel"
      }
    },
    {
      "cell_type": "code",
      "source": [
        "movies = [\n",
        "    \"oh brother where art thou\",\n",
        "    \"oceans eleven\",\n",
        "    \"fight club\",\n",
        "    \"the island\",\n",
        "    \"shutter island\",\n",
        "    \"the magnificent seven\",\n",
        "]\n",
        "\n",
        "del movies[0]\n",
        "print(movies)\n",
        "del movies[-2:]\n",
        "print(movies)"
      ],
      "metadata": {
        "colab": {
          "base_uri": "https://localhost:8080/"
        },
        "id": "YWR2ioLeOc7M",
        "outputId": "00d09866-01c8-4e4c-c0d4-986095252dfc"
      },
      "execution_count": 23,
      "outputs": [
        {
          "output_type": "stream",
          "name": "stdout",
          "text": [
            "['oceans eleven', 'fight club', 'the island', 'shutter island', 'the magnificent seven']\n",
            "['oceans eleven', 'fight club', 'the island']\n"
          ]
        }
      ]
    }
  ]
}